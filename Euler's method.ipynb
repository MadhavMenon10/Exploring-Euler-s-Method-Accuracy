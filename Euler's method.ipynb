{
 "cells": [
  {
   "cell_type": "code",
   "execution_count": null,
   "id": "0161ce0d-3f7c-4d33-b0b0-518985d94447",
   "metadata": {},
   "outputs": [],
   "source": [
    "import numpy as np\n",
    "import pandas as pd\n",
    "import PySpice.Logging.Logging as Logging\n",
    "from PySpice.Spice.Netlist import Circuit\n",
    "from PySpice.Spice.Simulation import Simulation\n",
    "from PySpice.Spice.BasicElement import SinusoidalVoltageSource"
   ]
  },
  {
   "cell_type": "markdown",
   "id": "df01052f-a91c-4068-af90-8f5daf49d241",
   "metadata": {},
   "source": [
    "# Simulating the circuit to verify analytic solution"
   ]
  },
  {
   "cell_type": "code",
   "execution_count": null,
   "id": "6148a361-d2f6-40ec-8b60-7475d5e1bbb2",
   "metadata": {},
   "outputs": [],
   "source": [
    "logger = Logging.setup_logging()\n",
    "circuit = Circuit('Series RL Circuit')\n",
    "R = 1.0\n",
    "L = 0.05\n",
    "V0 = 1.0\n",
    "omega = 2.0\n",
    "freq = omega/(2*np.pi) # Computs the frequency of the AC voltage source\n",
    "\n",
    "# Sets up circuit\n",
    "circuit.SinusoidalVoltageSource(\"V\", \"1\", circuit.gnd, amplitude = V0, frequency = freq) # Defines voltage source at point V\n",
    "circuit.R(\"1\", \"1\", \"2\", R) # Adds a resistor between nodes 1 and 2\n",
    "circuit.L(\"1\", \"2\", circuit.gnd, L) # Adds an inductor between node 2 and ground\n",
    "\n",
    "simulation = circuit.simulator(temperature = 25, nominal_temperature = 25)\n",
    "analysis = simulation.transient(step_time = 0.01, end_time = 0.50)\n",
    "current = -analysis[\"I(V)\"]\n",
    "time_values = np.array(analysis.time)\n",
    "current_array = np.array(current)\n",
    "analytic_current = current_array[np.argmin(np.abs(time_array - 0.50))]"
   ]
  },
  {
   "cell_type": "markdown",
   "id": "d16f445c-069b-49bb-a31a-6eb7a618211b",
   "metadata": {},
   "source": [
    "# Euler's Method"
   ]
  },
  {
   "cell_type": "code",
   "execution_count": null,
   "id": "694bc13b-8b2d-4c09-aacc-a71caecd3e07",
   "metadata": {},
   "outputs": [],
   "source": [
    "def f(t):\n",
    "    return (10/101)*(np.exp(-20*t) - np.cos(2*t) + 10*np.sin(2*t)) # Defining the solution function\n",
    "\n",
    "def didt(i, t):\n",
    "    return 20*np.sin(2*t)-20*i # Defining the differential equation\n",
    "\n",
    "h = 0.01 # step size\n",
    "\n",
    "i = 0 # initial condition\n",
    "\n",
    "timesteps = np.arange(0,0.51,h)\n",
    "\n",
    "i_values = [] # stores actual value of function at each timestep\n",
    "\n",
    "for t in timesteps:\n",
    "    i_values.append(f(t))\n",
    "    \n",
    "approximated_values = [] # stores result from Euler's method at each timestep\n",
    "\n",
    "approximated_values.append(i)\n",
    "\n",
    "for t in timesteps: # Loop to iterate over all t in the timesteps array\n",
    "                # Adds each output from Euler's method into the array, starting with the initial condition \n",
    "    i = i + h*didt(i, t) # Euler's method\n",
    "    approximated_values.append(i)\n",
    "\n",
    "approximated_values.pop() # The counter in the for-loop adds the approximation for t=0.51, this is removed here\n",
    "\n",
    "local_error = [] # Initialises a list to store the local truncation error \n",
    "\n",
    "local_error.append(0)\n",
    "\n",
    "timesteps_null = np.arange(0.01,0.51,h)\n",
    "\n",
    "for t in timesteps_null:\n",
    "    local_error.append(abs(f(t) - f(t-0.01) - h*didt(f(t-0.01), t-0.01))) # Calculates the local truncation error and adds it to the list\n",
    "\n",
    "steps = [i for i in range(0, 51)]\n",
    "\n",
    "data = {\n",
    "    \"Steps $(n)$\": steps,\n",
    "    \"$t_n$\": timesteps,\n",
    "    \"$i(t_n)$\": i_values,\n",
    "    \"$i_n$\": approximated_values,\n",
    "    \"$epsilon_l$\": local_error    \n",
    "}\n",
    "\n",
    "df = pd.DataFrame(data) # Converts obtained into a Panda's dataframe\n",
    "df.to_csv(\"data.csv\", index = False) # Exports dataframe into a csv file"
   ]
  }
 ],
 "metadata": {
  "kernelspec": {
   "display_name": "Python 3 (ipykernel)",
   "language": "python",
   "name": "python3"
  },
  "language_info": {
   "codemirror_mode": {
    "name": "ipython",
    "version": 3
   },
   "file_extension": ".py",
   "mimetype": "text/x-python",
   "name": "python",
   "nbconvert_exporter": "python",
   "pygments_lexer": "ipython3",
   "version": "3.12.4"
  }
 },
 "nbformat": 4,
 "nbformat_minor": 5
}
