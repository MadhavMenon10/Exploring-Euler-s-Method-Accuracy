{
 "cells": [
  {
   "cell_type": "code",
   "execution_count": 8,
   "id": "694bc13b-8b2d-4c09-aacc-a71caecd3e07",
   "metadata": {},
   "outputs": [],
   "source": [
    "import numpy as np\n",
    "import pandas as pd\n",
    "def f(t):\n",
    "    return (10/101)*(np.exp(-20*t) - np.cos(2*t) + 10*np.sin(2*t)) # Defining the solution function\n",
    "\n",
    "def didt(i, t):\n",
    "    return 20*np.sin(2*t)-20*i # Defining the differential equation\n",
    "\n",
    "h = 0.01 # step size\n",
    "\n",
    "i = 0 # initial condition\n",
    "\n",
    "timesteps = np.arange(0,0.51,h)\n",
    "\n",
    "i_values = [] # stores actual value of function at each timestep\n",
    "\n",
    "for t in timesteps:\n",
    "    i_values.append(f(t))\n",
    "    \n",
    "approximated_values = [] # stores result from Euler's method at each timestep\n",
    "\n",
    "approximated_values.append(i)\n",
    "\n",
    "for t in timesteps: # Loop to iterate over all t in the timesteps array\n",
    "                # Adds each output from Euler's method into the array, starting with the initial condition \n",
    "    i = i + h*didt(i, t) # Euler's method\n",
    "    approximated_values.append(i)\n",
    "\n",
    "approximated_values.pop() # The counter in the for-loop adds the approximation for t=0.51, this is removed here\n",
    "\n",
    "local_error = [] # Initialises a list to store the local truncation error \n",
    "\n",
    "local_error.append(0)\n",
    "\n",
    "timesteps_null = np.arange(0.01,0.51,h)\n",
    "\n",
    "for t in timesteps_null:\n",
    "    local_error.append(abs(f(t) - f(t-0.01) - h*didt(f(t-0.01), t-0.01))) # Calculates the local truncation error and adds it to the list\n",
    "\n",
    "steps = [i for i in range(0, 51)]\n",
    "\n",
    "data = {\n",
    "    \"Steps $(n)$\": steps,\n",
    "    \"$t_n$\": timesteps,\n",
    "    \"$i(t_n)$\": i_values,\n",
    "    \"$i_n$\": approximated_values,\n",
    "    \"$epsilon_l$\": local_error    \n",
    "}\n",
    "\n",
    "df = pd.DataFrame(data) # Converts obtained into a Panda's dataframe\n",
    "df.to_csv(\"data.csv\", index = False) # Exports dataframe into a csv file"
   ]
  },
  {
   "cell_type": "code",
   "execution_count": null,
   "id": "9f3e0b83-dd03-4b59-8e9b-2d2e1d33053c",
   "metadata": {},
   "outputs": [],
   "source": []
  }
 ],
 "metadata": {
  "kernelspec": {
   "display_name": "Python 3 (ipykernel)",
   "language": "python",
   "name": "python3"
  },
  "language_info": {
   "codemirror_mode": {
    "name": "ipython",
    "version": 3
   },
   "file_extension": ".py",
   "mimetype": "text/x-python",
   "name": "python",
   "nbconvert_exporter": "python",
   "pygments_lexer": "ipython3",
   "version": "3.12.4"
  }
 },
 "nbformat": 4,
 "nbformat_minor": 5
}
