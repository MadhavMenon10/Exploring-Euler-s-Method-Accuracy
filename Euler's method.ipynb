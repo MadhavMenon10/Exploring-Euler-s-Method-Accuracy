{
 "cells": [
  {
   "cell_type": "code",
   "execution_count": 18,
   "id": "0161ce0d-3f7c-4d33-b0b0-518985d94447",
   "metadata": {},
   "outputs": [
    {
     "ename": "ImportError",
     "evalue": "cannot import name 'Simulation' from 'PySpice.Spice.Simulation' (/opt/miniconda3/lib/python3.12/site-packages/PySpice/Spice/Simulation.py)",
     "output_type": "error",
     "traceback": [
      "\u001b[0;31m---------------------------------------------------------------------------\u001b[0m",
      "\u001b[0;31mImportError\u001b[0m                               Traceback (most recent call last)",
      "Cell \u001b[0;32mIn[18], line 5\u001b[0m\n\u001b[1;32m      3\u001b[0m \u001b[38;5;28;01mimport\u001b[39;00m \u001b[38;5;21;01mPySpice\u001b[39;00m\u001b[38;5;21;01m.\u001b[39;00m\u001b[38;5;21;01mLogging\u001b[39;00m\u001b[38;5;21;01m.\u001b[39;00m\u001b[38;5;21;01mLogging\u001b[39;00m \u001b[38;5;28;01mas\u001b[39;00m \u001b[38;5;21;01mLogging\u001b[39;00m\n\u001b[1;32m      4\u001b[0m \u001b[38;5;28;01mfrom\u001b[39;00m \u001b[38;5;21;01mPySpice\u001b[39;00m\u001b[38;5;21;01m.\u001b[39;00m\u001b[38;5;21;01mSpice\u001b[39;00m\u001b[38;5;21;01m.\u001b[39;00m\u001b[38;5;21;01mNetlist\u001b[39;00m \u001b[38;5;28;01mimport\u001b[39;00m Circuit\n\u001b[0;32m----> 5\u001b[0m \u001b[38;5;28;01mfrom\u001b[39;00m \u001b[38;5;21;01mPySpice\u001b[39;00m\u001b[38;5;21;01m.\u001b[39;00m\u001b[38;5;21;01mSpice\u001b[39;00m\u001b[38;5;21;01m.\u001b[39;00m\u001b[38;5;21;01mSimulation\u001b[39;00m \u001b[38;5;28;01mimport\u001b[39;00m Simulation\n\u001b[1;32m      6\u001b[0m \u001b[38;5;28;01mfrom\u001b[39;00m \u001b[38;5;21;01mPySpice\u001b[39;00m\u001b[38;5;21;01m.\u001b[39;00m\u001b[38;5;21;01mSpice\u001b[39;00m\u001b[38;5;21;01m.\u001b[39;00m\u001b[38;5;21;01mBasicElement\u001b[39;00m \u001b[38;5;28;01mimport\u001b[39;00m SinusoidalVoltageSource\n",
      "\u001b[0;31mImportError\u001b[0m: cannot import name 'Simulation' from 'PySpice.Spice.Simulation' (/opt/miniconda3/lib/python3.12/site-packages/PySpice/Spice/Simulation.py)"
     ]
    }
   ],
   "source": [
    "import numpy as np\n",
    "import pandas as pd\n",
    "import PySpice.Logging.Logging as Logging\n",
    "from PySpice.Spice.Netlist import Circuit\n",
    "from PySpice.Spice.Simulation import Simulation\n",
    "from PySpice.Spice.BasicElement import SinusoidalVoltageSource"
   ]
  },
  {
   "cell_type": "markdown",
   "id": "df01052f-a91c-4068-af90-8f5daf49d241",
   "metadata": {},
   "source": [
    "# Simulating the circuit to verify analytic solution"
   ]
  },
  {
   "cell_type": "code",
   "execution_count": 17,
   "id": "6148a361-d2f6-40ec-8b60-7475d5e1bbb2",
   "metadata": {},
   "outputs": [
    {
     "ename": "CDefError",
     "evalue": "<cdef source string>:7: duplicate declaration of struct ngcomplex",
     "output_type": "error",
     "traceback": [
      "\u001b[0;31m---------------------------------------------------------------------------\u001b[0m",
      "\u001b[0;31mCDefError\u001b[0m                                 Traceback (most recent call last)",
      "Cell \u001b[0;32mIn[17], line 17\u001b[0m\n\u001b[1;32m     14\u001b[0m circuit\u001b[38;5;241m.\u001b[39mR(\u001b[38;5;124m\"\u001b[39m\u001b[38;5;124m1\u001b[39m\u001b[38;5;124m\"\u001b[39m, \u001b[38;5;124m\"\u001b[39m\u001b[38;5;124m1\u001b[39m\u001b[38;5;124m\"\u001b[39m, \u001b[38;5;124m\"\u001b[39m\u001b[38;5;124m2\u001b[39m\u001b[38;5;124m\"\u001b[39m, R) \u001b[38;5;66;03m# Adds a resistor between nodes 1 and 2\u001b[39;00m\n\u001b[1;32m     15\u001b[0m circuit\u001b[38;5;241m.\u001b[39mL(\u001b[38;5;124m\"\u001b[39m\u001b[38;5;124m1\u001b[39m\u001b[38;5;124m\"\u001b[39m, \u001b[38;5;124m\"\u001b[39m\u001b[38;5;124m2\u001b[39m\u001b[38;5;124m\"\u001b[39m, circuit\u001b[38;5;241m.\u001b[39mgnd, L) \u001b[38;5;66;03m# Adds an inductor between node 2 and ground\u001b[39;00m\n\u001b[0;32m---> 17\u001b[0m simulation \u001b[38;5;241m=\u001b[39m \u001b[43mcircuit\u001b[49m\u001b[38;5;241;43m.\u001b[39;49m\u001b[43msimulator\u001b[49m\u001b[43m(\u001b[49m\u001b[43mtemperature\u001b[49m\u001b[43m \u001b[49m\u001b[38;5;241;43m=\u001b[39;49m\u001b[43m \u001b[49m\u001b[38;5;241;43m25\u001b[39;49m\u001b[43m,\u001b[49m\u001b[43m \u001b[49m\u001b[43mnominal_temperature\u001b[49m\u001b[43m \u001b[49m\u001b[38;5;241;43m=\u001b[39;49m\u001b[43m \u001b[49m\u001b[38;5;241;43m25\u001b[39;49m\u001b[43m)\u001b[49m\n\u001b[1;32m     18\u001b[0m analysis \u001b[38;5;241m=\u001b[39m simulation\u001b[38;5;241m.\u001b[39mtransient(step_time \u001b[38;5;241m=\u001b[39m \u001b[38;5;241m0.01\u001b[39m, end_time \u001b[38;5;241m=\u001b[39m \u001b[38;5;241m0.50\u001b[39m)\n\u001b[1;32m     19\u001b[0m current \u001b[38;5;241m=\u001b[39m \u001b[38;5;241m-\u001b[39manalysis[\u001b[38;5;124m\"\u001b[39m\u001b[38;5;124mI(V)\u001b[39m\u001b[38;5;124m\"\u001b[39m]\n",
      "File \u001b[0;32m/opt/miniconda3/lib/python3.12/site-packages/PySpice/Spice/Netlist.py:1292\u001b[0m, in \u001b[0;36mCircuit.simulator\u001b[0;34m(self, *args, **kwargs)\u001b[0m\n\u001b[1;32m   1291\u001b[0m \u001b[38;5;28;01mdef\u001b[39;00m \u001b[38;5;21msimulator\u001b[39m(\u001b[38;5;28mself\u001b[39m, \u001b[38;5;241m*\u001b[39margs, \u001b[38;5;241m*\u001b[39m\u001b[38;5;241m*\u001b[39mkwargs):\n\u001b[0;32m-> 1292\u001b[0m     \u001b[38;5;28;01mreturn\u001b[39;00m \u001b[43mCircuitSimulator\u001b[49m\u001b[38;5;241;43m.\u001b[39;49m\u001b[43mfactory\u001b[49m\u001b[43m(\u001b[49m\u001b[38;5;28;43mself\u001b[39;49m\u001b[43m,\u001b[49m\u001b[43m \u001b[49m\u001b[38;5;241;43m*\u001b[39;49m\u001b[43margs\u001b[49m\u001b[43m,\u001b[49m\u001b[43m \u001b[49m\u001b[38;5;241;43m*\u001b[39;49m\u001b[38;5;241;43m*\u001b[39;49m\u001b[43mkwargs\u001b[49m\u001b[43m)\u001b[49m\n",
      "File \u001b[0;32m/opt/miniconda3/lib/python3.12/site-packages/PySpice/Spice/Simulation.py:1167\u001b[0m, in \u001b[0;36mCircuitSimulator.factory\u001b[0;34m(cls, circuit, *args, **kwargs)\u001b[0m\n\u001b[1;32m   1164\u001b[0m         kwargs[\u001b[38;5;124m'\u001b[39m\u001b[38;5;124mparallel\u001b[39m\u001b[38;5;124m'\u001b[39m] \u001b[38;5;241m=\u001b[39m \u001b[38;5;28;01mTrue\u001b[39;00m\n\u001b[1;32m   1166\u001b[0m \u001b[38;5;28;01mif\u001b[39;00m sub_cls \u001b[38;5;129;01mis\u001b[39;00m \u001b[38;5;129;01mnot\u001b[39;00m \u001b[38;5;28;01mNone\u001b[39;00m:\n\u001b[0;32m-> 1167\u001b[0m     \u001b[38;5;28;01mreturn\u001b[39;00m \u001b[43msub_cls\u001b[49m\u001b[43m(\u001b[49m\u001b[43mcircuit\u001b[49m\u001b[43m,\u001b[49m\u001b[43m \u001b[49m\u001b[38;5;241;43m*\u001b[39;49m\u001b[43margs\u001b[49m\u001b[43m,\u001b[49m\u001b[43m \u001b[49m\u001b[38;5;241;43m*\u001b[39;49m\u001b[38;5;241;43m*\u001b[39;49m\u001b[43mkwargs\u001b[49m\u001b[43m)\u001b[49m\n\u001b[1;32m   1168\u001b[0m \u001b[38;5;28;01melse\u001b[39;00m:\n\u001b[1;32m   1169\u001b[0m     \u001b[38;5;28;01mraise\u001b[39;00m \u001b[38;5;167;01mValueError\u001b[39;00m(\u001b[38;5;124m'\u001b[39m\u001b[38;5;124mUnknown simulator type\u001b[39m\u001b[38;5;124m'\u001b[39m)\n",
      "File \u001b[0;32m/opt/miniconda3/lib/python3.12/site-packages/PySpice/Spice/NgSpice/Simulation.py:99\u001b[0m, in \u001b[0;36mNgSpiceSharedCircuitSimulator.__init__\u001b[0;34m(self, circuit, **kwargs)\u001b[0m\n\u001b[1;32m     97\u001b[0m ngspice_shared \u001b[38;5;241m=\u001b[39m kwargs\u001b[38;5;241m.\u001b[39mget(\u001b[38;5;124m'\u001b[39m\u001b[38;5;124mngspice_shared\u001b[39m\u001b[38;5;124m'\u001b[39m, \u001b[38;5;28;01mNone\u001b[39;00m)\n\u001b[1;32m     98\u001b[0m \u001b[38;5;28;01mif\u001b[39;00m ngspice_shared \u001b[38;5;129;01mis\u001b[39;00m \u001b[38;5;28;01mNone\u001b[39;00m:\n\u001b[0;32m---> 99\u001b[0m     \u001b[38;5;28mself\u001b[39m\u001b[38;5;241m.\u001b[39m_ngspice_shared \u001b[38;5;241m=\u001b[39m \u001b[43mNgSpiceShared\u001b[49m\u001b[38;5;241;43m.\u001b[39;49m\u001b[43mnew_instance\u001b[49m\u001b[43m(\u001b[49m\u001b[43m)\u001b[49m\n\u001b[1;32m    100\u001b[0m \u001b[38;5;28;01melse\u001b[39;00m:\n\u001b[1;32m    101\u001b[0m     \u001b[38;5;28mself\u001b[39m\u001b[38;5;241m.\u001b[39m_ngspice_shared \u001b[38;5;241m=\u001b[39m ngspice_shared\n",
      "File \u001b[0;32m/opt/miniconda3/lib/python3.12/site-packages/PySpice/Spice/NgSpice/Shared.py:449\u001b[0m, in \u001b[0;36mNgSpiceShared.new_instance\u001b[0;34m(cls, ngspice_id, send_data, verbose)\u001b[0m\n\u001b[1;32m    447\u001b[0m \u001b[38;5;28;01melse\u001b[39;00m:\n\u001b[1;32m    448\u001b[0m     \u001b[38;5;28mcls\u001b[39m\u001b[38;5;241m.\u001b[39m_logger\u001b[38;5;241m.\u001b[39mdebug(\u001b[38;5;124m\"\u001b[39m\u001b[38;5;124mNew instance for id \u001b[39m\u001b[38;5;132;01m{}\u001b[39;00m\u001b[38;5;124m\"\u001b[39m\u001b[38;5;241m.\u001b[39mformat(ngspice_id))\n\u001b[0;32m--> 449\u001b[0m     instance \u001b[38;5;241m=\u001b[39m \u001b[38;5;28;43mcls\u001b[39;49m\u001b[43m(\u001b[49m\u001b[43mngspice_id\u001b[49m\u001b[38;5;241;43m=\u001b[39;49m\u001b[43mngspice_id\u001b[49m\u001b[43m,\u001b[49m\u001b[43m \u001b[49m\u001b[43msend_data\u001b[49m\u001b[38;5;241;43m=\u001b[39;49m\u001b[43msend_data\u001b[49m\u001b[43m,\u001b[49m\u001b[43m \u001b[49m\u001b[43mverbose\u001b[49m\u001b[38;5;241;43m=\u001b[39;49m\u001b[43mverbose\u001b[49m\u001b[43m)\u001b[49m\n\u001b[1;32m    450\u001b[0m     \u001b[38;5;28mcls\u001b[39m\u001b[38;5;241m.\u001b[39m_instances[ngspice_id] \u001b[38;5;241m=\u001b[39m instance\n\u001b[1;32m    451\u001b[0m     \u001b[38;5;28;01mreturn\u001b[39;00m instance\n",
      "File \u001b[0;32m/opt/miniconda3/lib/python3.12/site-packages/PySpice/Spice/NgSpice/Shared.py:479\u001b[0m, in \u001b[0;36mNgSpiceShared.__init__\u001b[0;34m(self, ngspice_id, send_data, verbose)\u001b[0m\n\u001b[1;32m    476\u001b[0m \u001b[38;5;28mself\u001b[39m\u001b[38;5;241m.\u001b[39m_extensions \u001b[38;5;241m=\u001b[39m []\n\u001b[1;32m    478\u001b[0m \u001b[38;5;28mself\u001b[39m\u001b[38;5;241m.\u001b[39m_library_path \u001b[38;5;241m=\u001b[39m \u001b[38;5;28;01mNone\u001b[39;00m\n\u001b[0;32m--> 479\u001b[0m \u001b[38;5;28;43mself\u001b[39;49m\u001b[38;5;241;43m.\u001b[39;49m\u001b[43m_load_library\u001b[49m\u001b[43m(\u001b[49m\u001b[43mverbose\u001b[49m\u001b[43m)\u001b[49m\n\u001b[1;32m    480\u001b[0m \u001b[38;5;28mself\u001b[39m\u001b[38;5;241m.\u001b[39m_init_ngspice(send_data)\n\u001b[1;32m    482\u001b[0m \u001b[38;5;28mself\u001b[39m\u001b[38;5;241m.\u001b[39m_is_running \u001b[38;5;241m=\u001b[39m \u001b[38;5;28;01mFalse\u001b[39;00m\n",
      "File \u001b[0;32m/opt/miniconda3/lib/python3.12/site-packages/PySpice/Spice/NgSpice/Shared.py:533\u001b[0m, in \u001b[0;36mNgSpiceShared._load_library\u001b[0;34m(self, verbose)\u001b[0m\n\u001b[1;32m    531\u001b[0m api_path \u001b[38;5;241m=\u001b[39m Path(\u001b[38;5;18m__file__\u001b[39m)\u001b[38;5;241m.\u001b[39mparent\u001b[38;5;241m.\u001b[39mjoinpath(\u001b[38;5;124m'\u001b[39m\u001b[38;5;124mapi.h\u001b[39m\u001b[38;5;124m'\u001b[39m)\n\u001b[1;32m    532\u001b[0m \u001b[38;5;28;01mwith\u001b[39;00m \u001b[38;5;28mopen\u001b[39m(api_path) \u001b[38;5;28;01mas\u001b[39;00m fh:\n\u001b[0;32m--> 533\u001b[0m     \u001b[43mffi\u001b[49m\u001b[38;5;241;43m.\u001b[39;49m\u001b[43mcdef\u001b[49m\u001b[43m(\u001b[49m\u001b[43mfh\u001b[49m\u001b[38;5;241;43m.\u001b[39;49m\u001b[43mread\u001b[49m\u001b[43m(\u001b[49m\u001b[43m)\u001b[49m\u001b[43m)\u001b[49m\n\u001b[1;32m    535\u001b[0m message \u001b[38;5;241m=\u001b[39m \u001b[38;5;124m'\u001b[39m\u001b[38;5;124mLoad library \u001b[39m\u001b[38;5;132;01m{}\u001b[39;00m\u001b[38;5;124m'\u001b[39m\u001b[38;5;241m.\u001b[39mformat(\u001b[38;5;28mself\u001b[39m\u001b[38;5;241m.\u001b[39mlibrary_path)\n\u001b[1;32m    536\u001b[0m \u001b[38;5;28mself\u001b[39m\u001b[38;5;241m.\u001b[39m_logger\u001b[38;5;241m.\u001b[39mdebug(message)\n",
      "File \u001b[0;32m/opt/miniconda3/lib/python3.12/site-packages/cffi/api.py:112\u001b[0m, in \u001b[0;36mFFI.cdef\u001b[0;34m(self, csource, override, packed, pack)\u001b[0m\n\u001b[1;32m    101\u001b[0m \u001b[38;5;28;01mdef\u001b[39;00m \u001b[38;5;21mcdef\u001b[39m(\u001b[38;5;28mself\u001b[39m, csource, override\u001b[38;5;241m=\u001b[39m\u001b[38;5;28;01mFalse\u001b[39;00m, packed\u001b[38;5;241m=\u001b[39m\u001b[38;5;28;01mFalse\u001b[39;00m, pack\u001b[38;5;241m=\u001b[39m\u001b[38;5;28;01mNone\u001b[39;00m):\n\u001b[1;32m    102\u001b[0m \u001b[38;5;250m    \u001b[39m\u001b[38;5;124;03m\"\"\"Parse the given C source.  This registers all declared functions,\u001b[39;00m\n\u001b[1;32m    103\u001b[0m \u001b[38;5;124;03m    types, and global variables.  The functions and global variables can\u001b[39;00m\n\u001b[1;32m    104\u001b[0m \u001b[38;5;124;03m    then be accessed via either 'ffi.dlopen()' or 'ffi.verify()'.\u001b[39;00m\n\u001b[0;32m   (...)\u001b[0m\n\u001b[1;32m    110\u001b[0m \u001b[38;5;124;03m    packed=True).\u001b[39;00m\n\u001b[1;32m    111\u001b[0m \u001b[38;5;124;03m    \"\"\"\u001b[39;00m\n\u001b[0;32m--> 112\u001b[0m     \u001b[38;5;28;43mself\u001b[39;49m\u001b[38;5;241;43m.\u001b[39;49m\u001b[43m_cdef\u001b[49m\u001b[43m(\u001b[49m\u001b[43mcsource\u001b[49m\u001b[43m,\u001b[49m\u001b[43m \u001b[49m\u001b[43moverride\u001b[49m\u001b[38;5;241;43m=\u001b[39;49m\u001b[43moverride\u001b[49m\u001b[43m,\u001b[49m\u001b[43m \u001b[49m\u001b[43mpacked\u001b[49m\u001b[38;5;241;43m=\u001b[39;49m\u001b[43mpacked\u001b[49m\u001b[43m,\u001b[49m\u001b[43m \u001b[49m\u001b[43mpack\u001b[49m\u001b[38;5;241;43m=\u001b[39;49m\u001b[43mpack\u001b[49m\u001b[43m)\u001b[49m\n",
      "File \u001b[0;32m/opt/miniconda3/lib/python3.12/site-packages/cffi/api.py:126\u001b[0m, in \u001b[0;36mFFI._cdef\u001b[0;34m(self, csource, override, **options)\u001b[0m\n\u001b[1;32m    124\u001b[0m \u001b[38;5;28;01mwith\u001b[39;00m \u001b[38;5;28mself\u001b[39m\u001b[38;5;241m.\u001b[39m_lock:\n\u001b[1;32m    125\u001b[0m     \u001b[38;5;28mself\u001b[39m\u001b[38;5;241m.\u001b[39m_cdef_version \u001b[38;5;241m=\u001b[39m \u001b[38;5;28mobject\u001b[39m()\n\u001b[0;32m--> 126\u001b[0m     \u001b[38;5;28;43mself\u001b[39;49m\u001b[38;5;241;43m.\u001b[39;49m\u001b[43m_parser\u001b[49m\u001b[38;5;241;43m.\u001b[39;49m\u001b[43mparse\u001b[49m\u001b[43m(\u001b[49m\u001b[43mcsource\u001b[49m\u001b[43m,\u001b[49m\u001b[43m \u001b[49m\u001b[43moverride\u001b[49m\u001b[38;5;241;43m=\u001b[39;49m\u001b[43moverride\u001b[49m\u001b[43m,\u001b[49m\u001b[43m \u001b[49m\u001b[38;5;241;43m*\u001b[39;49m\u001b[38;5;241;43m*\u001b[39;49m\u001b[43moptions\u001b[49m\u001b[43m)\u001b[49m\n\u001b[1;32m    127\u001b[0m     \u001b[38;5;28mself\u001b[39m\u001b[38;5;241m.\u001b[39m_cdefsources\u001b[38;5;241m.\u001b[39mappend(csource)\n\u001b[1;32m    128\u001b[0m     \u001b[38;5;28;01mif\u001b[39;00m override:\n",
      "File \u001b[0;32m/opt/miniconda3/lib/python3.12/site-packages/cffi/cparser.py:389\u001b[0m, in \u001b[0;36mParser.parse\u001b[0;34m(self, csource, override, packed, pack, dllexport)\u001b[0m\n\u001b[1;32m    385\u001b[0m \u001b[38;5;28;01mtry\u001b[39;00m:\n\u001b[1;32m    386\u001b[0m     \u001b[38;5;28mself\u001b[39m\u001b[38;5;241m.\u001b[39m_options \u001b[38;5;241m=\u001b[39m {\u001b[38;5;124m'\u001b[39m\u001b[38;5;124moverride\u001b[39m\u001b[38;5;124m'\u001b[39m: override,\n\u001b[1;32m    387\u001b[0m                      \u001b[38;5;124m'\u001b[39m\u001b[38;5;124mpacked\u001b[39m\u001b[38;5;124m'\u001b[39m: pack,\n\u001b[1;32m    388\u001b[0m                      \u001b[38;5;124m'\u001b[39m\u001b[38;5;124mdllexport\u001b[39m\u001b[38;5;124m'\u001b[39m: dllexport}\n\u001b[0;32m--> 389\u001b[0m     \u001b[38;5;28;43mself\u001b[39;49m\u001b[38;5;241;43m.\u001b[39;49m\u001b[43m_internal_parse\u001b[49m\u001b[43m(\u001b[49m\u001b[43mcsource\u001b[49m\u001b[43m)\u001b[49m\n\u001b[1;32m    390\u001b[0m \u001b[38;5;28;01mfinally\u001b[39;00m:\n\u001b[1;32m    391\u001b[0m     \u001b[38;5;28mself\u001b[39m\u001b[38;5;241m.\u001b[39m_options \u001b[38;5;241m=\u001b[39m prev_options\n",
      "File \u001b[0;32m/opt/miniconda3/lib/python3.12/site-packages/cffi/cparser.py:428\u001b[0m, in \u001b[0;36mParser._internal_parse\u001b[0;34m(self, csource)\u001b[0m\n\u001b[1;32m    426\u001b[0m         realtype \u001b[38;5;241m=\u001b[39m \u001b[38;5;28mself\u001b[39m\u001b[38;5;241m.\u001b[39m_get_unknown_ptr_type(decl)\n\u001b[1;32m    427\u001b[0m     \u001b[38;5;28;01melse\u001b[39;00m:\n\u001b[0;32m--> 428\u001b[0m         realtype, quals \u001b[38;5;241m=\u001b[39m \u001b[38;5;28;43mself\u001b[39;49m\u001b[38;5;241;43m.\u001b[39;49m\u001b[43m_get_type_and_quals\u001b[49m\u001b[43m(\u001b[49m\n\u001b[1;32m    429\u001b[0m \u001b[43m            \u001b[49m\u001b[43mdecl\u001b[49m\u001b[38;5;241;43m.\u001b[39;49m\u001b[43mtype\u001b[49m\u001b[43m,\u001b[49m\u001b[43m \u001b[49m\u001b[43mname\u001b[49m\u001b[38;5;241;43m=\u001b[39;49m\u001b[43mdecl\u001b[49m\u001b[38;5;241;43m.\u001b[39;49m\u001b[43mname\u001b[49m\u001b[43m,\u001b[49m\u001b[43m \u001b[49m\u001b[43mpartial_length_ok\u001b[49m\u001b[38;5;241;43m=\u001b[39;49m\u001b[38;5;28;43;01mTrue\u001b[39;49;00m\u001b[43m,\u001b[49m\n\u001b[1;32m    430\u001b[0m \u001b[43m            \u001b[49m\u001b[43mtypedef_example\u001b[49m\u001b[38;5;241;43m=\u001b[39;49m\u001b[38;5;124;43m\"\u001b[39;49m\u001b[38;5;124;43m*(\u001b[39;49m\u001b[38;5;132;43;01m%s\u001b[39;49;00m\u001b[38;5;124;43m *)0\u001b[39;49m\u001b[38;5;124;43m\"\u001b[39;49m\u001b[43m \u001b[49m\u001b[38;5;241;43m%\u001b[39;49m\u001b[43m \u001b[49m\u001b[43m(\u001b[49m\u001b[43mdecl\u001b[49m\u001b[38;5;241;43m.\u001b[39;49m\u001b[43mname\u001b[49m\u001b[43m,\u001b[49m\u001b[43m)\u001b[49m\u001b[43m)\u001b[49m\n\u001b[1;32m    431\u001b[0m     \u001b[38;5;28mself\u001b[39m\u001b[38;5;241m.\u001b[39m_declare(\u001b[38;5;124m'\u001b[39m\u001b[38;5;124mtypedef \u001b[39m\u001b[38;5;124m'\u001b[39m \u001b[38;5;241m+\u001b[39m decl\u001b[38;5;241m.\u001b[39mname, realtype, quals\u001b[38;5;241m=\u001b[39mquals)\n\u001b[1;32m    432\u001b[0m \u001b[38;5;28;01melif\u001b[39;00m decl\u001b[38;5;241m.\u001b[39m\u001b[38;5;18m__class__\u001b[39m\u001b[38;5;241m.\u001b[39m\u001b[38;5;18m__name__\u001b[39m \u001b[38;5;241m==\u001b[39m \u001b[38;5;124m'\u001b[39m\u001b[38;5;124mPragma\u001b[39m\u001b[38;5;124m'\u001b[39m:\n",
      "File \u001b[0;32m/opt/miniconda3/lib/python3.12/site-packages/cffi/cparser.py:674\u001b[0m, in \u001b[0;36mParser._get_type_and_quals\u001b[0;34m(self, typenode, name, partial_length_ok, typedef_example)\u001b[0m\n\u001b[1;32m    671\u001b[0m \u001b[38;5;66;03m#\u001b[39;00m\n\u001b[1;32m    672\u001b[0m \u001b[38;5;28;01mif\u001b[39;00m \u001b[38;5;28misinstance\u001b[39m(\u001b[38;5;28mtype\u001b[39m, pycparser\u001b[38;5;241m.\u001b[39mc_ast\u001b[38;5;241m.\u001b[39mStruct):\n\u001b[1;32m    673\u001b[0m     \u001b[38;5;66;03m# 'struct foobar'\u001b[39;00m\n\u001b[0;32m--> 674\u001b[0m     tp \u001b[38;5;241m=\u001b[39m \u001b[38;5;28;43mself\u001b[39;49m\u001b[38;5;241;43m.\u001b[39;49m\u001b[43m_get_struct_union_enum_type\u001b[49m\u001b[43m(\u001b[49m\u001b[38;5;124;43m'\u001b[39;49m\u001b[38;5;124;43mstruct\u001b[39;49m\u001b[38;5;124;43m'\u001b[39;49m\u001b[43m,\u001b[49m\u001b[43m \u001b[49m\u001b[38;5;28;43mtype\u001b[39;49m\u001b[43m,\u001b[49m\u001b[43m \u001b[49m\u001b[43mname\u001b[49m\u001b[43m)\u001b[49m\n\u001b[1;32m    675\u001b[0m     \u001b[38;5;28;01mreturn\u001b[39;00m tp, quals\n\u001b[1;32m    676\u001b[0m \u001b[38;5;66;03m#\u001b[39;00m\n",
      "File \u001b[0;32m/opt/miniconda3/lib/python3.12/site-packages/cffi/cparser.py:821\u001b[0m, in \u001b[0;36mParser._get_struct_union_enum_type\u001b[0;34m(self, kind, type, name, nested)\u001b[0m\n\u001b[1;32m    819\u001b[0m \u001b[38;5;66;03m#\u001b[39;00m\n\u001b[1;32m    820\u001b[0m \u001b[38;5;28;01mif\u001b[39;00m tp\u001b[38;5;241m.\u001b[39mfldnames \u001b[38;5;129;01mis\u001b[39;00m \u001b[38;5;129;01mnot\u001b[39;00m \u001b[38;5;28;01mNone\u001b[39;00m:\n\u001b[0;32m--> 821\u001b[0m     \u001b[38;5;28;01mraise\u001b[39;00m CDefError(\u001b[38;5;124m\"\u001b[39m\u001b[38;5;124mduplicate declaration of struct \u001b[39m\u001b[38;5;132;01m%s\u001b[39;00m\u001b[38;5;124m\"\u001b[39m \u001b[38;5;241m%\u001b[39m name)\n\u001b[1;32m    822\u001b[0m fldnames \u001b[38;5;241m=\u001b[39m []\n\u001b[1;32m    823\u001b[0m fldtypes \u001b[38;5;241m=\u001b[39m []\n",
      "\u001b[0;31mCDefError\u001b[0m: <cdef source string>:7: duplicate declaration of struct ngcomplex"
     ]
    }
   ],
   "source": [
    "logger = Logging.setup_logging()\n",
    "circuit = Circuit('Series RL Circuit')\n",
    "R = 1.0\n",
    "L = 0.05\n",
    "V0 = 1.0\n",
    "omega = 2.0\n",
    "freq = omega/(2*np.pi) # Computs the frequency of the AC voltage source\n",
    "\n",
    "# Sets up circuit\n",
    "circuit.SinusoidalVoltageSource(\"V\", \"1\", circuit.gnd, amplitude = V0, frequency = freq) # Defines voltage source at point V\n",
    "circuit.R(\"1\", \"1\", \"2\", R) # Adds a resistor between nodes 1 and 2\n",
    "circuit.L(\"1\", \"2\", circuit.gnd, L) # Adds an inductor between node 2 and ground\n",
    "\n",
    "simulation = circuit.simulator(temperature = 25, nominal_temperature = 25)\n",
    "analysis = simulation.transient(step_time = 0.01, end_time = 0.50)\n",
    "current = -analysis[\"I(V)\"]\n",
    "time_values = np.array(analysis.time)\n",
    "current_array = np.array(current)\n",
    "analytic_current = current_array[np.argmin(np.abs(time_array - 0.50))]\n",
    "print(analytic_current)"
   ]
  },
  {
   "cell_type": "markdown",
   "id": "d16f445c-069b-49bb-a31a-6eb7a618211b",
   "metadata": {},
   "source": [
    "# Euler's Method"
   ]
  },
  {
   "cell_type": "code",
   "execution_count": 7,
   "id": "694bc13b-8b2d-4c09-aacc-a71caecd3e07",
   "metadata": {},
   "outputs": [],
   "source": [
    "def f(t):\n",
    "    return (10/101)*(np.exp(-20*t) - np.cos(2*t) + 10*np.sin(2*t)) # Defining the solution function\n",
    "\n",
    "def didt(i, t):\n",
    "    return 20*np.sin(2*t)-20*i # Defining the differential equation\n",
    "\n",
    "h = 0.01 # step size\n",
    "\n",
    "i = 0 # initial condition\n",
    "\n",
    "timesteps = np.arange(0,0.51,h)\n",
    "\n",
    "i_values = [] # stores actual value of function at each timestep\n",
    "\n",
    "for t in timesteps:\n",
    "    i_values.append(f(t))\n",
    "    \n",
    "approximated_values = [] # stores result from Euler's method at each timestep\n",
    "\n",
    "approximated_values.append(i)\n",
    "\n",
    "for t in timesteps: # Loop to iterate over all t in the timesteps array\n",
    "                # Adds each output from Euler's method into the array, starting with the initial condition \n",
    "    i = i + h*didt(i, t) # Euler's method\n",
    "    approximated_values.append(i)\n",
    "\n",
    "approximated_values.pop() # The counter in the for-loop adds the approximation for t=0.51, this is removed here\n",
    "\n",
    "local_error = [] # Initialises a list to store the local truncation error \n",
    "\n",
    "local_error.append(0)\n",
    "\n",
    "timesteps_null = np.arange(0.01,0.51,h)\n",
    "\n",
    "for t in timesteps_null:\n",
    "    local_error.append(abs(f(t) - f(t-0.01) - h*didt(f(t-0.01), t-0.01))) # Calculates the local truncation error and adds it to the list\n",
    "\n",
    "steps = [i for i in range(0, 51)]\n",
    "\n",
    "data = {\n",
    "    \"Steps $(n)$\": steps,\n",
    "    \"$t_n$\": timesteps,\n",
    "    \"$i(t_n)$\": i_values,\n",
    "    \"$i_n$\": approximated_values,\n",
    "    \"$epsilon_l$\": local_error    \n",
    "}\n",
    "\n",
    "df = pd.DataFrame(data) # Converts obtained into a Panda's dataframe\n",
    "df.to_csv(\"data.csv\", index = False) # Exports dataframe into a csv file"
   ]
  }
 ],
 "metadata": {
  "kernelspec": {
   "display_name": "Python 3 (ipykernel)",
   "language": "python",
   "name": "python3"
  },
  "language_info": {
   "codemirror_mode": {
    "name": "ipython",
    "version": 3
   },
   "file_extension": ".py",
   "mimetype": "text/x-python",
   "name": "python",
   "nbconvert_exporter": "python",
   "pygments_lexer": "ipython3",
   "version": "3.12.4"
  }
 },
 "nbformat": 4,
 "nbformat_minor": 5
}
